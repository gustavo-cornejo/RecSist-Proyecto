{
 "cells": [
  {
   "cell_type": "markdown",
   "metadata": {
    "vscode": {
     "languageId": "plaintext"
    }
   },
   "source": [
    "# Hearthstone Deck Recommendation\n",
    "### Objetivo: Construir un mazo ganador en contra de un mazo oponente específico para una partida de Hearthstone."
   ]
  },
  {
   "cell_type": "markdown",
   "metadata": {},
   "source": [
    "## Librerias"
   ]
  },
  {
   "cell_type": "code",
   "execution_count": 6,
   "metadata": {},
   "outputs": [],
   "source": [
    "import pandas as pd\n",
    "import numpy as np\n",
    "from collections import Counter\n",
    "import keras\n",
    "import pickle"
   ]
  },
  {
   "cell_type": "markdown",
   "metadata": {},
   "source": [
    "## Base de datos\n",
    "La base de datos se obtuvo de la plataforma HearthPwn (https://www.hearthpwn.com/decks), esta contiene información sobre mazos creados por jugadores de Hearthstone. Los datos incluyen la clase del mazo, sus 30 cartas, el coste de creación, la puntuación, entre otros."
   ]
  },
  {
   "cell_type": "code",
   "execution_count": 7,
   "metadata": {},
   "outputs": [
    {
     "data": {
      "text/html": [
       "<div>\n",
       "<style scoped>\n",
       "    .dataframe tbody tr th:only-of-type {\n",
       "        vertical-align: middle;\n",
       "    }\n",
       "\n",
       "    .dataframe tbody tr th {\n",
       "        vertical-align: top;\n",
       "    }\n",
       "\n",
       "    .dataframe thead th {\n",
       "        text-align: right;\n",
       "    }\n",
       "</style>\n",
       "<table border=\"1\" class=\"dataframe\">\n",
       "  <thead>\n",
       "    <tr style=\"text-align: right;\">\n",
       "      <th></th>\n",
       "      <th>craft_cost</th>\n",
       "      <th>date</th>\n",
       "      <th>deck_archetype</th>\n",
       "      <th>deck_class</th>\n",
       "      <th>deck_format</th>\n",
       "      <th>deck_id</th>\n",
       "      <th>deck_set</th>\n",
       "      <th>deck_type</th>\n",
       "      <th>rating</th>\n",
       "      <th>title</th>\n",
       "      <th>...</th>\n",
       "      <th>card_20</th>\n",
       "      <th>card_21</th>\n",
       "      <th>card_22</th>\n",
       "      <th>card_23</th>\n",
       "      <th>card_24</th>\n",
       "      <th>card_25</th>\n",
       "      <th>card_26</th>\n",
       "      <th>card_27</th>\n",
       "      <th>card_28</th>\n",
       "      <th>card_29</th>\n",
       "    </tr>\n",
       "  </thead>\n",
       "  <tbody>\n",
       "    <tr>\n",
       "      <th>0</th>\n",
       "      <td>9740</td>\n",
       "      <td>2016-02-19</td>\n",
       "      <td>Unknown</td>\n",
       "      <td>Priest</td>\n",
       "      <td>W</td>\n",
       "      <td>433004</td>\n",
       "      <td>Explorers</td>\n",
       "      <td>Tavern Brawl</td>\n",
       "      <td>1</td>\n",
       "      <td>Reno Priest</td>\n",
       "      <td>...</td>\n",
       "      <td>374</td>\n",
       "      <td>2280</td>\n",
       "      <td>2511</td>\n",
       "      <td>2555</td>\n",
       "      <td>2566</td>\n",
       "      <td>2582</td>\n",
       "      <td>2683</td>\n",
       "      <td>2736</td>\n",
       "      <td>2568</td>\n",
       "      <td>2883</td>\n",
       "    </tr>\n",
       "    <tr>\n",
       "      <th>1</th>\n",
       "      <td>9840</td>\n",
       "      <td>2016-02-19</td>\n",
       "      <td>Unknown</td>\n",
       "      <td>Warrior</td>\n",
       "      <td>W</td>\n",
       "      <td>433003</td>\n",
       "      <td>Explorers</td>\n",
       "      <td>Ranked Deck</td>\n",
       "      <td>1</td>\n",
       "      <td>RoosterWarrior</td>\n",
       "      <td>...</td>\n",
       "      <td>1781</td>\n",
       "      <td>1781</td>\n",
       "      <td>2021</td>\n",
       "      <td>2021</td>\n",
       "      <td>2064</td>\n",
       "      <td>2064</td>\n",
       "      <td>2078</td>\n",
       "      <td>2510</td>\n",
       "      <td>2729</td>\n",
       "      <td>2736</td>\n",
       "    </tr>\n",
       "    <tr>\n",
       "      <th>2</th>\n",
       "      <td>2600</td>\n",
       "      <td>2016-02-19</td>\n",
       "      <td>Unknown</td>\n",
       "      <td>Mage</td>\n",
       "      <td>W</td>\n",
       "      <td>433002</td>\n",
       "      <td>Explorers</td>\n",
       "      <td>Theorycraft</td>\n",
       "      <td>1</td>\n",
       "      <td>Annoying</td>\n",
       "      <td>...</td>\n",
       "      <td>1793</td>\n",
       "      <td>1801</td>\n",
       "      <td>1801</td>\n",
       "      <td>2037</td>\n",
       "      <td>2037</td>\n",
       "      <td>2064</td>\n",
       "      <td>2064</td>\n",
       "      <td>2078</td>\n",
       "      <td>38710</td>\n",
       "      <td>38710</td>\n",
       "    </tr>\n",
       "    <tr>\n",
       "      <th>3</th>\n",
       "      <td>15600</td>\n",
       "      <td>2016-02-19</td>\n",
       "      <td>Unknown</td>\n",
       "      <td>Warrior</td>\n",
       "      <td>W</td>\n",
       "      <td>433001</td>\n",
       "      <td>Explorers</td>\n",
       "      <td>NaN</td>\n",
       "      <td>0</td>\n",
       "      <td>Standart pay to win warrior</td>\n",
       "      <td>...</td>\n",
       "      <td>1657</td>\n",
       "      <td>1721</td>\n",
       "      <td>2018</td>\n",
       "      <td>2296</td>\n",
       "      <td>2262</td>\n",
       "      <td>336</td>\n",
       "      <td>2729</td>\n",
       "      <td>2729</td>\n",
       "      <td>2736</td>\n",
       "      <td>2760</td>\n",
       "    </tr>\n",
       "    <tr>\n",
       "      <th>4</th>\n",
       "      <td>7700</td>\n",
       "      <td>2016-02-19</td>\n",
       "      <td>Unknown</td>\n",
       "      <td>Paladin</td>\n",
       "      <td>W</td>\n",
       "      <td>432997</td>\n",
       "      <td>Explorers</td>\n",
       "      <td>Ranked Deck</td>\n",
       "      <td>1</td>\n",
       "      <td>Palamix</td>\n",
       "      <td>...</td>\n",
       "      <td>2027</td>\n",
       "      <td>2029</td>\n",
       "      <td>2029</td>\n",
       "      <td>2064</td>\n",
       "      <td>2078</td>\n",
       "      <td>374</td>\n",
       "      <td>2717</td>\n",
       "      <td>2717</td>\n",
       "      <td>2889</td>\n",
       "      <td>2889</td>\n",
       "    </tr>\n",
       "  </tbody>\n",
       "</table>\n",
       "<p>5 rows × 41 columns</p>\n",
       "</div>"
      ],
      "text/plain": [
       "   craft_cost        date deck_archetype deck_class deck_format  deck_id  \\\n",
       "0        9740  2016-02-19        Unknown     Priest           W   433004   \n",
       "1        9840  2016-02-19        Unknown    Warrior           W   433003   \n",
       "2        2600  2016-02-19        Unknown       Mage           W   433002   \n",
       "3       15600  2016-02-19        Unknown    Warrior           W   433001   \n",
       "4        7700  2016-02-19        Unknown    Paladin           W   432997   \n",
       "\n",
       "    deck_set     deck_type  rating                        title  ... card_20  \\\n",
       "0  Explorers  Tavern Brawl       1                  Reno Priest  ...     374   \n",
       "1  Explorers   Ranked Deck       1               RoosterWarrior  ...    1781   \n",
       "2  Explorers   Theorycraft       1                     Annoying  ...    1793   \n",
       "3  Explorers           NaN       0  Standart pay to win warrior  ...    1657   \n",
       "4  Explorers   Ranked Deck       1                      Palamix  ...    2027   \n",
       "\n",
       "   card_21  card_22  card_23  card_24  card_25  card_26  card_27  card_28  \\\n",
       "0     2280     2511     2555     2566     2582     2683     2736     2568   \n",
       "1     1781     2021     2021     2064     2064     2078     2510     2729   \n",
       "2     1801     1801     2037     2037     2064     2064     2078    38710   \n",
       "3     1721     2018     2296     2262      336     2729     2729     2736   \n",
       "4     2029     2029     2064     2078      374     2717     2717     2889   \n",
       "\n",
       "   card_29  \n",
       "0     2883  \n",
       "1     2736  \n",
       "2    38710  \n",
       "3     2760  \n",
       "4     2889  \n",
       "\n",
       "[5 rows x 41 columns]"
      ]
     },
     "execution_count": 7,
     "metadata": {},
     "output_type": "execute_result"
    }
   ],
   "source": [
    "df = pd.read_csv(\"data\\data.csv\")\n",
    "df.head()"
   ]
  },
  {
   "cell_type": "code",
   "execution_count": 8,
   "metadata": {},
   "outputs": [
    {
     "data": {
      "text/html": [
       "<div>\n",
       "<style scoped>\n",
       "    .dataframe tbody tr th:only-of-type {\n",
       "        vertical-align: middle;\n",
       "    }\n",
       "\n",
       "    .dataframe tbody tr th {\n",
       "        vertical-align: top;\n",
       "    }\n",
       "\n",
       "    .dataframe thead th {\n",
       "        text-align: right;\n",
       "    }\n",
       "</style>\n",
       "<table border=\"1\" class=\"dataframe\">\n",
       "  <thead>\n",
       "    <tr style=\"text-align: right;\">\n",
       "      <th></th>\n",
       "      <th>craft_cost</th>\n",
       "      <th>deck_id</th>\n",
       "      <th>rating</th>\n",
       "      <th>card_0</th>\n",
       "      <th>card_1</th>\n",
       "      <th>card_2</th>\n",
       "      <th>card_3</th>\n",
       "      <th>card_4</th>\n",
       "      <th>card_5</th>\n",
       "      <th>card_6</th>\n",
       "      <th>...</th>\n",
       "      <th>card_20</th>\n",
       "      <th>card_21</th>\n",
       "      <th>card_22</th>\n",
       "      <th>card_23</th>\n",
       "      <th>card_24</th>\n",
       "      <th>card_25</th>\n",
       "      <th>card_26</th>\n",
       "      <th>card_27</th>\n",
       "      <th>card_28</th>\n",
       "      <th>card_29</th>\n",
       "    </tr>\n",
       "  </thead>\n",
       "  <tbody>\n",
       "    <tr>\n",
       "      <th>count</th>\n",
       "      <td>346232.000000</td>\n",
       "      <td>346232.000000</td>\n",
       "      <td>346232.000000</td>\n",
       "      <td>346232.000000</td>\n",
       "      <td>346232.000000</td>\n",
       "      <td>346232.000000</td>\n",
       "      <td>346232.000000</td>\n",
       "      <td>346232.000000</td>\n",
       "      <td>346232.000000</td>\n",
       "      <td>346232.000000</td>\n",
       "      <td>...</td>\n",
       "      <td>346232.000000</td>\n",
       "      <td>346232.000000</td>\n",
       "      <td>346232.000000</td>\n",
       "      <td>346232.000000</td>\n",
       "      <td>346232.000000</td>\n",
       "      <td>346232.000000</td>\n",
       "      <td>346232.000000</td>\n",
       "      <td>346232.000000</td>\n",
       "      <td>346232.000000</td>\n",
       "      <td>346232.000000</td>\n",
       "    </tr>\n",
       "    <tr>\n",
       "      <th>mean</th>\n",
       "      <td>5645.360218</td>\n",
       "      <td>394152.425798</td>\n",
       "      <td>2.687230</td>\n",
       "      <td>166.555443</td>\n",
       "      <td>215.682814</td>\n",
       "      <td>328.068948</td>\n",
       "      <td>388.254399</td>\n",
       "      <td>465.439497</td>\n",
       "      <td>530.422084</td>\n",
       "      <td>618.649576</td>\n",
       "      <td>...</td>\n",
       "      <td>6676.817657</td>\n",
       "      <td>7879.285156</td>\n",
       "      <td>9310.508977</td>\n",
       "      <td>10780.480210</td>\n",
       "      <td>12401.890674</td>\n",
       "      <td>13709.898080</td>\n",
       "      <td>15068.109406</td>\n",
       "      <td>15955.823881</td>\n",
       "      <td>19239.277147</td>\n",
       "      <td>20537.999847</td>\n",
       "    </tr>\n",
       "    <tr>\n",
       "      <th>std</th>\n",
       "      <td>3927.986295</td>\n",
       "      <td>222605.617140</td>\n",
       "      <td>22.117751</td>\n",
       "      <td>515.546751</td>\n",
       "      <td>549.163776</td>\n",
       "      <td>609.109069</td>\n",
       "      <td>629.218897</td>\n",
       "      <td>710.534945</td>\n",
       "      <td>813.475129</td>\n",
       "      <td>987.250288</td>\n",
       "      <td>...</td>\n",
       "      <td>12610.593768</td>\n",
       "      <td>13750.165455</td>\n",
       "      <td>14885.066464</td>\n",
       "      <td>15862.422929</td>\n",
       "      <td>16731.209629</td>\n",
       "      <td>17295.441879</td>\n",
       "      <td>17766.351821</td>\n",
       "      <td>18039.395857</td>\n",
       "      <td>18567.676290</td>\n",
       "      <td>18686.462303</td>\n",
       "    </tr>\n",
       "    <tr>\n",
       "      <th>min</th>\n",
       "      <td>0.000000</td>\n",
       "      <td>18.000000</td>\n",
       "      <td>0.000000</td>\n",
       "      <td>8.000000</td>\n",
       "      <td>8.000000</td>\n",
       "      <td>8.000000</td>\n",
       "      <td>8.000000</td>\n",
       "      <td>8.000000</td>\n",
       "      <td>8.000000</td>\n",
       "      <td>8.000000</td>\n",
       "      <td>...</td>\n",
       "      <td>8.000000</td>\n",
       "      <td>8.000000</td>\n",
       "      <td>8.000000</td>\n",
       "      <td>8.000000</td>\n",
       "      <td>8.000000</td>\n",
       "      <td>8.000000</td>\n",
       "      <td>8.000000</td>\n",
       "      <td>8.000000</td>\n",
       "      <td>8.000000</td>\n",
       "      <td>8.000000</td>\n",
       "    </tr>\n",
       "    <tr>\n",
       "      <th>25%</th>\n",
       "      <td>2720.000000</td>\n",
       "      <td>216721.500000</td>\n",
       "      <td>1.000000</td>\n",
       "      <td>64.000000</td>\n",
       "      <td>75.000000</td>\n",
       "      <td>189.000000</td>\n",
       "      <td>237.000000</td>\n",
       "      <td>279.000000</td>\n",
       "      <td>304.000000</td>\n",
       "      <td>401.000000</td>\n",
       "      <td>...</td>\n",
       "      <td>1158.000000</td>\n",
       "      <td>1363.000000</td>\n",
       "      <td>1659.000000</td>\n",
       "      <td>1783.000000</td>\n",
       "      <td>1794.000000</td>\n",
       "      <td>1913.000000</td>\n",
       "      <td>2010.000000</td>\n",
       "      <td>2037.000000</td>\n",
       "      <td>2078.000000</td>\n",
       "      <td>2095.000000</td>\n",
       "    </tr>\n",
       "    <tr>\n",
       "      <th>50%</th>\n",
       "      <td>5000.000000</td>\n",
       "      <td>406046.500000</td>\n",
       "      <td>1.000000</td>\n",
       "      <td>138.000000</td>\n",
       "      <td>180.000000</td>\n",
       "      <td>285.000000</td>\n",
       "      <td>315.000000</td>\n",
       "      <td>415.000000</td>\n",
       "      <td>475.000000</td>\n",
       "      <td>559.000000</td>\n",
       "      <td>...</td>\n",
       "      <td>1940.000000</td>\n",
       "      <td>2029.000000</td>\n",
       "      <td>2061.000000</td>\n",
       "      <td>2078.000000</td>\n",
       "      <td>2275.000000</td>\n",
       "      <td>2488.000000</td>\n",
       "      <td>2577.000000</td>\n",
       "      <td>2682.000000</td>\n",
       "      <td>2901.000000</td>\n",
       "      <td>3015.000000</td>\n",
       "    </tr>\n",
       "    <tr>\n",
       "      <th>75%</th>\n",
       "      <td>7740.000000</td>\n",
       "      <td>590820.500000</td>\n",
       "      <td>1.000000</td>\n",
       "      <td>238.000000</td>\n",
       "      <td>285.000000</td>\n",
       "      <td>421.000000</td>\n",
       "      <td>476.000000</td>\n",
       "      <td>605.000000</td>\n",
       "      <td>643.000000</td>\n",
       "      <td>763.000000</td>\n",
       "      <td>...</td>\n",
       "      <td>2610.000000</td>\n",
       "      <td>2736.000000</td>\n",
       "      <td>2890.000000</td>\n",
       "      <td>2958.000000</td>\n",
       "      <td>38391.000000</td>\n",
       "      <td>38526.000000</td>\n",
       "      <td>38727.000000</td>\n",
       "      <td>38833.000000</td>\n",
       "      <td>38918.000000</td>\n",
       "      <td>39034.000000</td>\n",
       "    </tr>\n",
       "    <tr>\n",
       "      <th>max</th>\n",
       "      <td>48000.000000</td>\n",
       "      <td>749548.000000</td>\n",
       "      <td>4016.000000</td>\n",
       "      <td>41409.000000</td>\n",
       "      <td>41409.000000</td>\n",
       "      <td>41609.000000</td>\n",
       "      <td>41409.000000</td>\n",
       "      <td>41409.000000</td>\n",
       "      <td>41609.000000</td>\n",
       "      <td>41609.000000</td>\n",
       "      <td>...</td>\n",
       "      <td>41609.000000</td>\n",
       "      <td>41609.000000</td>\n",
       "      <td>41609.000000</td>\n",
       "      <td>41609.000000</td>\n",
       "      <td>41609.000000</td>\n",
       "      <td>41609.000000</td>\n",
       "      <td>41841.000000</td>\n",
       "      <td>42146.000000</td>\n",
       "      <td>42146.000000</td>\n",
       "      <td>42146.000000</td>\n",
       "    </tr>\n",
       "  </tbody>\n",
       "</table>\n",
       "<p>8 rows × 33 columns</p>\n",
       "</div>"
      ],
      "text/plain": [
       "          craft_cost        deck_id         rating         card_0  \\\n",
       "count  346232.000000  346232.000000  346232.000000  346232.000000   \n",
       "mean     5645.360218  394152.425798       2.687230     166.555443   \n",
       "std      3927.986295  222605.617140      22.117751     515.546751   \n",
       "min         0.000000      18.000000       0.000000       8.000000   \n",
       "25%      2720.000000  216721.500000       1.000000      64.000000   \n",
       "50%      5000.000000  406046.500000       1.000000     138.000000   \n",
       "75%      7740.000000  590820.500000       1.000000     238.000000   \n",
       "max     48000.000000  749548.000000    4016.000000   41409.000000   \n",
       "\n",
       "              card_1         card_2         card_3         card_4  \\\n",
       "count  346232.000000  346232.000000  346232.000000  346232.000000   \n",
       "mean      215.682814     328.068948     388.254399     465.439497   \n",
       "std       549.163776     609.109069     629.218897     710.534945   \n",
       "min         8.000000       8.000000       8.000000       8.000000   \n",
       "25%        75.000000     189.000000     237.000000     279.000000   \n",
       "50%       180.000000     285.000000     315.000000     415.000000   \n",
       "75%       285.000000     421.000000     476.000000     605.000000   \n",
       "max     41409.000000   41609.000000   41409.000000   41409.000000   \n",
       "\n",
       "              card_5         card_6  ...        card_20        card_21  \\\n",
       "count  346232.000000  346232.000000  ...  346232.000000  346232.000000   \n",
       "mean      530.422084     618.649576  ...    6676.817657    7879.285156   \n",
       "std       813.475129     987.250288  ...   12610.593768   13750.165455   \n",
       "min         8.000000       8.000000  ...       8.000000       8.000000   \n",
       "25%       304.000000     401.000000  ...    1158.000000    1363.000000   \n",
       "50%       475.000000     559.000000  ...    1940.000000    2029.000000   \n",
       "75%       643.000000     763.000000  ...    2610.000000    2736.000000   \n",
       "max     41609.000000   41609.000000  ...   41609.000000   41609.000000   \n",
       "\n",
       "             card_22        card_23        card_24        card_25  \\\n",
       "count  346232.000000  346232.000000  346232.000000  346232.000000   \n",
       "mean     9310.508977   10780.480210   12401.890674   13709.898080   \n",
       "std     14885.066464   15862.422929   16731.209629   17295.441879   \n",
       "min         8.000000       8.000000       8.000000       8.000000   \n",
       "25%      1659.000000    1783.000000    1794.000000    1913.000000   \n",
       "50%      2061.000000    2078.000000    2275.000000    2488.000000   \n",
       "75%      2890.000000    2958.000000   38391.000000   38526.000000   \n",
       "max     41609.000000   41609.000000   41609.000000   41609.000000   \n",
       "\n",
       "             card_26        card_27        card_28        card_29  \n",
       "count  346232.000000  346232.000000  346232.000000  346232.000000  \n",
       "mean    15068.109406   15955.823881   19239.277147   20537.999847  \n",
       "std     17766.351821   18039.395857   18567.676290   18686.462303  \n",
       "min         8.000000       8.000000       8.000000       8.000000  \n",
       "25%      2010.000000    2037.000000    2078.000000    2095.000000  \n",
       "50%      2577.000000    2682.000000    2901.000000    3015.000000  \n",
       "75%     38727.000000   38833.000000   38918.000000   39034.000000  \n",
       "max     41841.000000   42146.000000   42146.000000   42146.000000  \n",
       "\n",
       "[8 rows x 33 columns]"
      ]
     },
     "execution_count": 8,
     "metadata": {},
     "output_type": "execute_result"
    }
   ],
   "source": [
    "df.describe()"
   ]
  },
  {
   "cell_type": "code",
   "execution_count": 4,
   "metadata": {},
   "outputs": [
    {
     "data": {
      "text/plain": [
       "deck_class\n",
       "Mage       45306\n",
       "Priest     44307\n",
       "Paladin    42266\n",
       "Warlock    38022\n",
       "Druid      37891\n",
       "Shaman     36457\n",
       "Warrior    35944\n",
       "Rogue      34794\n",
       "Hunter     31245\n",
       "Name: count, dtype: int64"
      ]
     },
     "execution_count": 4,
     "metadata": {},
     "output_type": "execute_result"
    }
   ],
   "source": [
    "df['deck_class'].value_counts()"
   ]
  },
  {
   "cell_type": "markdown",
   "metadata": {},
   "source": [
    "La clase de mazo con más entradas es \"Mage\". Para la implementación del sistema de recomendación utilizaremos solo mazos mago."
   ]
  },
  {
   "cell_type": "code",
   "execution_count": 5,
   "metadata": {},
   "outputs": [],
   "source": [
    "df = df[df['deck_class'] == 'Mage']"
   ]
  },
  {
   "cell_type": "markdown",
   "metadata": {},
   "source": [
    "## Cartas y mazos\n",
    "Definimos el conjunto *cards* con las *N* cartas más repetidas en los mazos mago y *D* como el tamaño del mazo para armar."
   ]
  },
  {
   "cell_type": "code",
   "execution_count": 12,
   "metadata": {},
   "outputs": [],
   "source": [
    "cards_cols = df.iloc[:, 11:41] # columnas con las cartas en la base de datos\n",
    "all_cards = (cards_cols.values.ravel()).tolist() # lista con las cartas\n",
    "counter = Counter(all_cards) # contador de las cartas\n",
    "\n",
    "N = 200 # tamaño conjunto cartas para elegir\n",
    "cards =  [item[0] for item in counter.most_common(N)] # conjunto con las N cartas más repetidas\n",
    "\n",
    "D = 30 # tamaño mazo Hearthstone"
   ]
  },
  {
   "cell_type": "markdown",
   "metadata": {},
   "source": [
    "El mazo lo definimos como un vector binario *deck* con *N* entradas y exactamente *D* iguales a 1. Este vector nos indica con la i-esima entrada si está o no (1 o 0) en el mazo la i-esima carta de *cards*. Definimos la función *binary_to_cards* que transforma el vector *deck* en una lista con la enumeración de las cartas del mazo.\n",
    "\n",
    "Para la construción de un mazo ganador necesitaremos el mazo inicial *deck_p* del jugador, que tenemos el objetivo de mejorar, y el mazo del oponente *deck_o*, que buscamos derrotar en una partida. A continación se presenta un ejemplo de mazos."
   ]
  },
  {
   "cell_type": "code",
   "execution_count": 13,
   "metadata": {},
   "outputs": [],
   "source": [
    "def binary_to_cards(deck, cards):\n",
    "    return [int(x) for x in deck*cards if x != 0]"
   ]
  },
  {
   "cell_type": "code",
   "execution_count": 14,
   "metadata": {},
   "outputs": [
    {
     "name": "stdout",
     "output_type": "stream",
     "text": [
      "Vector mazo jugador: [0 0 1 0 0 1 0 0 0 0 0 0 0 0 0 0 0 0 0 0 0 0 1 0 0 0 0 0 1 0 0 0 0 0 0 1 0\n",
      " 0 0 0 0 0 1 0 0 0 0 1 0 0 0 0 0 0 0 0 0 0 0 0 0 0 0 0 0 0 0 0 1 0 0 1 0 0\n",
      " 0 0 0 0 0 0 0 1 0 0 0 0 1 0 0 0 0 0 1 0 0 0 0 0 0 0 0 0 0 0 0 0 0 0 1 0 1\n",
      " 0 0 0 0 0 0 0 0 0 0 0 0 0 0 1 1 1 1 1 0 1 0 0 1 0 0 0 0 0 1 0 0 0 0 0 0 0\n",
      " 1 0 0 0 0 0 0 0 0 0 0 0 0 0 1 0 0 0 0 0 0 0 1 1 0 0 0 0 0 0 1 0 0 0 0 0 1\n",
      " 0 0 0 0 0 0 0 0 0 0 1 0 0 1 0]\n",
      "Cartas mazo jugador: [2064, 1659, 904, 778, 1783, 757, 1117, 1362, 2409, 1092, 985, 1037, 75, 272, 192, 30, 587, 890, 2408, 2736, 609, 654, 1100, 281, 754, 1029, 503, 1022, 999, 1371]\n",
      "\n",
      "Vector mazo oponente: [0 0 0 0 1 0 0 0 0 1 0 0 1 1 0 0 0 0 0 0 0 0 0 1 0 0 0 0 1 0 1 0 0 0 0 0 0\n",
      " 0 0 0 0 0 0 0 0 0 1 1 0 0 0 1 1 0 0 0 0 0 0 1 0 0 0 0 0 0 0 0 0 0 0 0 0 0\n",
      " 0 0 0 0 0 0 0 0 0 0 0 0 0 0 0 0 1 0 1 1 0 1 0 0 0 0 0 0 0 0 0 1 1 0 0 1 1\n",
      " 0 0 0 0 0 0 0 1 0 1 0 0 0 0 0 0 0 0 0 0 0 0 0 0 0 0 0 0 0 0 0 0 0 0 0 0 0\n",
      " 0 0 1 0 1 1 0 0 0 0 0 1 0 0 0 0 0 1 0 0 0 1 0 0 1 0 0 0 0 0 0 0 0 0 0 0 0\n",
      " 0 0 0 0 0 0 0 0 0 0 0 0 1 0 0]\n",
      "Cartas mazo oponente: [1073, 613, 476, 401, 1781, 778, 766, 38319, 1117, 1008, 405, 1662, 1186, 1037, 932, 2792, 38547, 2260, 519, 272, 457, 2275, 420, 1064, 734, 912, 2513, 759, 284, 976]\n"
     ]
    }
   ],
   "source": [
    "deck_p = np.zeros(N, dtype=int) # definir mazo jugador\n",
    "deck_p[np.random.choice(N, D, replace=False)] = 1 # generar mazo aleatorio jugador\n",
    "print(f'Vector mazo jugador: {deck_p}')\n",
    "print(f'Cartas mazo jugador: {binary_to_cards(deck_p, cards)}')\n",
    "print()\n",
    "\n",
    "deck_o = np.zeros(N, dtype=int) # definir mazo oponente\n",
    "deck_o[np.random.choice(N, D, replace=False)] = 1 # generar mazo aleatorio oponente\n",
    "print(f'Vector mazo oponente: {deck_o}')\n",
    "print(f'Cartas mazo oponente: {binary_to_cards(deck_o, cards)}')"
   ]
  },
  {
   "cell_type": "markdown",
   "metadata": {},
   "source": [
    "## Transiciones y acciones\n",
    "El proceso para mejorar el mazo *deck_p* consta de aplicar múltiples veces la función de transición *transition* determinada por una acción. Una acción *action* es una tupla con las cartas del reemplazo que modifica exactamente una carta del mazo por una carta que actualmente no está incluida. A continuación, un ejemplo del uso de la función *transition*, en donde se elige de forma aleatoria la acción."
   ]
  },
  {
   "cell_type": "code",
   "execution_count": 15,
   "metadata": {},
   "outputs": [],
   "source": [
    "def transition(deck, action):\n",
    "    deck[action[0]] = 0 # eliminamos la carta antigua del mazo\n",
    "    deck[action[1]] = 1 # agregamos la carta nueva al mazo\n",
    "    return deck"
   ]
  },
  {
   "cell_type": "code",
   "execution_count": 16,
   "metadata": {},
   "outputs": [
    {
     "name": "stdout",
     "output_type": "stream",
     "text": [
      "Mazo antiguo: [0 0 1 0 0 1 0 0 0 0 0 0 0 0 0 0 0 0 0 0 0 0 1 0 0 0 0 0 1 0 0 0 0 0 0 1 0\n",
      " 0 0 0 0 0 1 0 0 0 0 1 0 0 0 0 0 0 0 0 0 0 0 0 0 0 0 0 0 0 0 0 1 0 0 1 0 0\n",
      " 0 0 0 0 0 0 0 1 0 0 0 0 1 0 0 0 0 0 1 0 0 0 0 0 0 0 0 0 0 0 0 0 0 0 1 0 1\n",
      " 0 0 0 0 0 0 0 0 0 0 0 0 0 0 1 1 1 1 1 0 1 0 0 1 0 0 0 0 0 1 0 0 0 0 0 0 0\n",
      " 1 0 0 0 0 0 0 0 0 0 0 0 0 0 1 0 0 0 0 0 0 0 1 1 0 0 0 0 0 0 1 0 0 0 0 0 1\n",
      " 0 0 0 0 0 0 0 0 0 0 1 0 0 1 0]\n",
      "Acción: (129,150)\n",
      "Mazo nuevo: [0 0 1 0 0 1 0 0 0 0 0 0 0 0 0 0 0 0 0 0 0 0 1 0 0 0 0 0 1 0 0 0 0 0 0 1 0\n",
      " 0 0 0 0 0 1 0 0 0 0 1 0 0 0 0 0 0 0 0 0 0 0 0 0 0 0 0 0 0 0 0 1 0 0 1 0 0\n",
      " 0 0 0 0 0 0 0 1 0 0 0 0 1 0 0 0 0 0 1 0 0 0 0 0 0 0 0 0 0 0 0 0 0 0 1 0 1\n",
      " 0 0 0 0 0 0 0 0 0 0 0 0 0 0 1 1 1 1 0 0 1 0 0 1 0 0 0 0 0 1 0 0 0 0 0 0 0\n",
      " 1 0 1 0 0 0 0 0 0 0 0 0 0 0 1 0 0 0 0 0 0 0 1 1 0 0 0 0 0 0 1 0 0 0 0 0 1\n",
      " 0 0 0 0 0 0 0 0 0 0 1 0 0 1 0]\n",
      "Cartas mazo jugador: [2064, 1659, 904, 778, 1783, 757, 1117, 1362, 2409, 1092, 985, 1037, 75, 272, 192, 30, 587, 890, 2736, 609, 654, 1100, 420, 281, 754, 1029, 503, 1022, 999, 1371]\n"
     ]
    }
   ],
   "source": [
    "print(f'Mazo antiguo: {deck_p}')\n",
    "\n",
    "old_card = np.random.choice(np.where(deck_p == 1)[0]) # elegimos aleatoriamente una carta que está en el mazo\n",
    "new_card = np.random.choice(np.where(deck_p == 0)[0]) # elegimos aleatoriamente una carta que no está en el mazo\n",
    "action = (old_card, new_card) # definimos la acción\n",
    "print(f'Acción: ({action[0]},{action[1]})')\n",
    "\n",
    "new_deck_p = transition(deck_p, action)\n",
    "print(f'Mazo nuevo: {new_deck_p}')\n",
    "print(f'Cartas mazo jugador: {binary_to_cards(new_deck_p, cards)}')"
   ]
  },
  {
   "cell_type": "markdown",
   "metadata": {},
   "source": [
    "## Win Rate\n",
    "Para elegir las acciones que nos lleven a encontrar un mazo ganador usaremos el *win_rate* de este mazo. Entonces, para elegir la próxima acción buscaremos cual es la que maximiza el *win_rate* del mazo.\n",
    "\n",
    "Para hacer una función predictora del *win_rate* entrenamos distintos modelos de machine learning, esto se realizó en el notebook *win_rate_prediction.ipynb*.\n",
    "\n",
    "A continuación, se presenta la función *win_rate_NN* y un ejemplo de su uso con un mazo."
   ]
  },
  {
   "cell_type": "code",
   "execution_count": 17,
   "metadata": {},
   "outputs": [
    {
     "data": {
      "text/html": [
       "<pre style=\"white-space:pre;overflow-x:auto;line-height:normal;font-family:Menlo,'DejaVu Sans Mono',consolas,'Courier New',monospace\"><span style=\"font-weight: bold\">Model: \"sequential\"</span>\n",
       "</pre>\n"
      ],
      "text/plain": [
       "\u001b[1mModel: \"sequential\"\u001b[0m\n"
      ]
     },
     "metadata": {},
     "output_type": "display_data"
    },
    {
     "data": {
      "text/html": [
       "<pre style=\"white-space:pre;overflow-x:auto;line-height:normal;font-family:Menlo,'DejaVu Sans Mono',consolas,'Courier New',monospace\">┏━━━━━━━━━━━━━━━━━━━━━━━━━━━━━━━━━┳━━━━━━━━━━━━━━━━━━━━━━━━┳━━━━━━━━━━━━━━━┓\n",
       "┃<span style=\"font-weight: bold\"> Layer (type)                    </span>┃<span style=\"font-weight: bold\"> Output Shape           </span>┃<span style=\"font-weight: bold\">       Param # </span>┃\n",
       "┡━━━━━━━━━━━━━━━━━━━━━━━━━━━━━━━━━╇━━━━━━━━━━━━━━━━━━━━━━━━╇━━━━━━━━━━━━━━━┩\n",
       "│ dense (<span style=\"color: #0087ff; text-decoration-color: #0087ff\">Dense</span>)                   │ (<span style=\"color: #00d7ff; text-decoration-color: #00d7ff\">None</span>, <span style=\"color: #00af00; text-decoration-color: #00af00\">32</span>)             │         <span style=\"color: #00af00; text-decoration-color: #00af00\">1,312</span> │\n",
       "├─────────────────────────────────┼────────────────────────┼───────────────┤\n",
       "│ gaussian_dropout                │ (<span style=\"color: #00d7ff; text-decoration-color: #00d7ff\">None</span>, <span style=\"color: #00af00; text-decoration-color: #00af00\">32</span>)             │             <span style=\"color: #00af00; text-decoration-color: #00af00\">0</span> │\n",
       "│ (<span style=\"color: #0087ff; text-decoration-color: #0087ff\">GaussianDropout</span>)               │                        │               │\n",
       "├─────────────────────────────────┼────────────────────────┼───────────────┤\n",
       "│ dense_1 (<span style=\"color: #0087ff; text-decoration-color: #0087ff\">Dense</span>)                 │ (<span style=\"color: #00d7ff; text-decoration-color: #00d7ff\">None</span>, <span style=\"color: #00af00; text-decoration-color: #00af00\">50</span>)             │         <span style=\"color: #00af00; text-decoration-color: #00af00\">1,650</span> │\n",
       "├─────────────────────────────────┼────────────────────────┼───────────────┤\n",
       "│ gaussian_dropout_1              │ (<span style=\"color: #00d7ff; text-decoration-color: #00d7ff\">None</span>, <span style=\"color: #00af00; text-decoration-color: #00af00\">50</span>)             │             <span style=\"color: #00af00; text-decoration-color: #00af00\">0</span> │\n",
       "│ (<span style=\"color: #0087ff; text-decoration-color: #0087ff\">GaussianDropout</span>)               │                        │               │\n",
       "├─────────────────────────────────┼────────────────────────┼───────────────┤\n",
       "│ dense_2 (<span style=\"color: #0087ff; text-decoration-color: #0087ff\">Dense</span>)                 │ (<span style=\"color: #00d7ff; text-decoration-color: #00d7ff\">None</span>, <span style=\"color: #00af00; text-decoration-color: #00af00\">32</span>)             │         <span style=\"color: #00af00; text-decoration-color: #00af00\">1,632</span> │\n",
       "├─────────────────────────────────┼────────────────────────┼───────────────┤\n",
       "│ dense_3 (<span style=\"color: #0087ff; text-decoration-color: #0087ff\">Dense</span>)                 │ (<span style=\"color: #00d7ff; text-decoration-color: #00d7ff\">None</span>, <span style=\"color: #00af00; text-decoration-color: #00af00\">1</span>)              │            <span style=\"color: #00af00; text-decoration-color: #00af00\">33</span> │\n",
       "└─────────────────────────────────┴────────────────────────┴───────────────┘\n",
       "</pre>\n"
      ],
      "text/plain": [
       "┏━━━━━━━━━━━━━━━━━━━━━━━━━━━━━━━━━┳━━━━━━━━━━━━━━━━━━━━━━━━┳━━━━━━━━━━━━━━━┓\n",
       "┃\u001b[1m \u001b[0m\u001b[1mLayer (type)                   \u001b[0m\u001b[1m \u001b[0m┃\u001b[1m \u001b[0m\u001b[1mOutput Shape          \u001b[0m\u001b[1m \u001b[0m┃\u001b[1m \u001b[0m\u001b[1m      Param #\u001b[0m\u001b[1m \u001b[0m┃\n",
       "┡━━━━━━━━━━━━━━━━━━━━━━━━━━━━━━━━━╇━━━━━━━━━━━━━━━━━━━━━━━━╇━━━━━━━━━━━━━━━┩\n",
       "│ dense (\u001b[38;5;33mDense\u001b[0m)                   │ (\u001b[38;5;45mNone\u001b[0m, \u001b[38;5;34m32\u001b[0m)             │         \u001b[38;5;34m1,312\u001b[0m │\n",
       "├─────────────────────────────────┼────────────────────────┼───────────────┤\n",
       "│ gaussian_dropout                │ (\u001b[38;5;45mNone\u001b[0m, \u001b[38;5;34m32\u001b[0m)             │             \u001b[38;5;34m0\u001b[0m │\n",
       "│ (\u001b[38;5;33mGaussianDropout\u001b[0m)               │                        │               │\n",
       "├─────────────────────────────────┼────────────────────────┼───────────────┤\n",
       "│ dense_1 (\u001b[38;5;33mDense\u001b[0m)                 │ (\u001b[38;5;45mNone\u001b[0m, \u001b[38;5;34m50\u001b[0m)             │         \u001b[38;5;34m1,650\u001b[0m │\n",
       "├─────────────────────────────────┼────────────────────────┼───────────────┤\n",
       "│ gaussian_dropout_1              │ (\u001b[38;5;45mNone\u001b[0m, \u001b[38;5;34m50\u001b[0m)             │             \u001b[38;5;34m0\u001b[0m │\n",
       "│ (\u001b[38;5;33mGaussianDropout\u001b[0m)               │                        │               │\n",
       "├─────────────────────────────────┼────────────────────────┼───────────────┤\n",
       "│ dense_2 (\u001b[38;5;33mDense\u001b[0m)                 │ (\u001b[38;5;45mNone\u001b[0m, \u001b[38;5;34m32\u001b[0m)             │         \u001b[38;5;34m1,632\u001b[0m │\n",
       "├─────────────────────────────────┼────────────────────────┼───────────────┤\n",
       "│ dense_3 (\u001b[38;5;33mDense\u001b[0m)                 │ (\u001b[38;5;45mNone\u001b[0m, \u001b[38;5;34m1\u001b[0m)              │            \u001b[38;5;34m33\u001b[0m │\n",
       "└─────────────────────────────────┴────────────────────────┴───────────────┘\n"
      ]
     },
     "metadata": {},
     "output_type": "display_data"
    },
    {
     "data": {
      "text/html": [
       "<pre style=\"white-space:pre;overflow-x:auto;line-height:normal;font-family:Menlo,'DejaVu Sans Mono',consolas,'Courier New',monospace\"><span style=\"font-weight: bold\"> Total params: </span><span style=\"color: #00af00; text-decoration-color: #00af00\">13,883</span> (54.23 KB)\n",
       "</pre>\n"
      ],
      "text/plain": [
       "\u001b[1m Total params: \u001b[0m\u001b[38;5;34m13,883\u001b[0m (54.23 KB)\n"
      ]
     },
     "metadata": {},
     "output_type": "display_data"
    },
    {
     "data": {
      "text/html": [
       "<pre style=\"white-space:pre;overflow-x:auto;line-height:normal;font-family:Menlo,'DejaVu Sans Mono',consolas,'Courier New',monospace\"><span style=\"font-weight: bold\"> Trainable params: </span><span style=\"color: #00af00; text-decoration-color: #00af00\">4,627</span> (18.07 KB)\n",
       "</pre>\n"
      ],
      "text/plain": [
       "\u001b[1m Trainable params: \u001b[0m\u001b[38;5;34m4,627\u001b[0m (18.07 KB)\n"
      ]
     },
     "metadata": {},
     "output_type": "display_data"
    },
    {
     "data": {
      "text/html": [
       "<pre style=\"white-space:pre;overflow-x:auto;line-height:normal;font-family:Menlo,'DejaVu Sans Mono',consolas,'Courier New',monospace\"><span style=\"font-weight: bold\"> Non-trainable params: </span><span style=\"color: #00af00; text-decoration-color: #00af00\">0</span> (0.00 B)\n",
       "</pre>\n"
      ],
      "text/plain": [
       "\u001b[1m Non-trainable params: \u001b[0m\u001b[38;5;34m0\u001b[0m (0.00 B)\n"
      ]
     },
     "metadata": {},
     "output_type": "display_data"
    },
    {
     "data": {
      "text/html": [
       "<pre style=\"white-space:pre;overflow-x:auto;line-height:normal;font-family:Menlo,'DejaVu Sans Mono',consolas,'Courier New',monospace\"><span style=\"font-weight: bold\"> Optimizer params: </span><span style=\"color: #00af00; text-decoration-color: #00af00\">9,256</span> (36.16 KB)\n",
       "</pre>\n"
      ],
      "text/plain": [
       "\u001b[1m Optimizer params: \u001b[0m\u001b[38;5;34m9,256\u001b[0m (36.16 KB)\n"
      ]
     },
     "metadata": {},
     "output_type": "display_data"
    }
   ],
   "source": [
    "model = keras.models.load_model(\"win_rate_NN.keras\")\n",
    "model.summary()\n",
    "with open(\"encoder\", \"rb\") as f:\n",
    "    encoder = pickle.load(f)\n",
    "with open(\"win_rate_RF.pkl\", \"rb\") as f:\n",
    "    rf = pickle.load(f)"
   ]
  },
  {
   "cell_type": "code",
   "execution_count": null,
   "metadata": {},
   "outputs": [],
   "source": [
    "def win_rate_NN(deck,encoder = encoder, model =model):\n",
    "  mazo_gen_num = pd.DataFrame([{f\"card_{i}\": (deck[i] if i>-1 else 5645) for i in range(-1,30)}]).rename(columns={\"cards_-1\":\"craft_cost\"})\n",
    "  hero = \"Mage\"\n",
    "  mazo_gen_cat = pd.DataFrame([{\"hero\":hero}])\n",
    "  encoded_categorical = encoder.transform(mazo_gen_cat)\n",
    "  # # Step 3: Convert the encoded data back to a DataFrame\n",
    "  encoded_df = pd.DataFrame(encoded_categorical, columns=encoder.get_feature_names_out())\n",
    "  # # Step 4: Concatenate the numerical column with the one-hot encoded categorical columns\n",
    "  final_df = pd.concat([mazo_gen_num, encoded_df], axis=1).rename(columns={\"craft_cost\":\"dust\"})\n",
    "  results = model.predict(final_df)\n",
    "  return results"
   ]
  },
  {
   "cell_type": "code",
   "execution_count": 35,
   "metadata": {},
   "outputs": [
    {
     "name": "stdout",
     "output_type": "stream",
     "text": [
      "   card_-1  card_0  card_1  card_2  card_3  card_4  card_5  card_6  card_7  \\\n",
      "0     5645    2064    1659     904     778    1783     757    1117    1362   \n",
      "\n",
      "   card_8  ...  card_20  card_21  card_22  card_23  card_24  card_25  card_26  \\\n",
      "0    2409  ...      654     1100      420      281      754     1029      503   \n",
      "\n",
      "   card_27  card_28  card_29  \n",
      "0     1022      999     1371  \n",
      "\n",
      "[1 rows x 31 columns]\n",
      "   card_-1  card_0  card_1  card_2  card_3  card_4  card_5  card_6  card_7  \\\n",
      "0     5645    2064    1659     904     778    1783     757    1117    1362   \n",
      "\n",
      "   card_8  ...  card_29  hero_Druid  hero_Hunter  hero_Mage  hero_Paladin  \\\n",
      "0    2409  ...     1371         0.0          0.0        1.0           0.0   \n",
      "\n",
      "   hero_Priest  hero_Rogue  hero_Shaman  hero_Warlock  hero_Warrior  \n",
      "0          0.0         0.0          0.0           0.0           0.0  \n",
      "\n",
      "[1 rows x 40 columns]\n",
      "\u001b[1m1/1\u001b[0m \u001b[32m━━━━━━━━━━━━━━━━━━━━\u001b[0m\u001b[37m\u001b[0m \u001b[1m0s\u001b[0m 138ms/step\n",
      "[[54.60872]]\n"
     ]
    }
   ],
   "source": [
    "deck_o_cards = binary_to_cards(new_deck_p, cards)\n",
    "print(win_rate_NN(deck_o_cards))"
   ]
  },
  {
   "cell_type": "markdown",
   "metadata": {},
   "source": [
    "Aquí se puede ver el win rate aproximado obtenido a partir del mazo generado para el oponente"
   ]
  }
 ],
 "metadata": {
  "kernelspec": {
   "display_name": "Python 3",
   "language": "python",
   "name": "python3"
  },
  "language_info": {
   "codemirror_mode": {
    "name": "ipython",
    "version": 3
   },
   "file_extension": ".py",
   "mimetype": "text/x-python",
   "name": "python",
   "nbconvert_exporter": "python",
   "pygments_lexer": "ipython3",
   "version": "3.10.0"
  }
 },
 "nbformat": 4,
 "nbformat_minor": 2
}
