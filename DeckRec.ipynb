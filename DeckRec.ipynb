{
 "cells": [
  {
   "cell_type": "markdown",
   "metadata": {
    "vscode": {
     "languageId": "plaintext"
    }
   },
   "source": [
    "# Hearthstone Deck Recommendation\n",
    "### Objetivo: Construir un mazo ganador en contra de un mazo oponente específico para una partida de Hearthstone."
   ]
  },
  {
   "cell_type": "markdown",
   "metadata": {},
   "source": [
    "## Librerias"
   ]
  },
  {
   "cell_type": "code",
   "execution_count": 50,
   "metadata": {},
   "outputs": [],
   "source": [
    "import pandas as pd\n",
    "import numpy as np"
   ]
  },
  {
   "cell_type": "markdown",
   "metadata": {},
   "source": [
    "## Base de datos"
   ]
  },
  {
   "cell_type": "code",
   "execution_count": 51,
   "metadata": {},
   "outputs": [
    {
     "data": {
      "text/html": [
       "<div>\n",
       "<style scoped>\n",
       "    .dataframe tbody tr th:only-of-type {\n",
       "        vertical-align: middle;\n",
       "    }\n",
       "\n",
       "    .dataframe tbody tr th {\n",
       "        vertical-align: top;\n",
       "    }\n",
       "\n",
       "    .dataframe thead th {\n",
       "        text-align: right;\n",
       "    }\n",
       "</style>\n",
       "<table border=\"1\" class=\"dataframe\">\n",
       "  <thead>\n",
       "    <tr style=\"text-align: right;\">\n",
       "      <th></th>\n",
       "      <th>craft_cost</th>\n",
       "      <th>date</th>\n",
       "      <th>deck_archetype</th>\n",
       "      <th>deck_class</th>\n",
       "      <th>deck_format</th>\n",
       "      <th>deck_id</th>\n",
       "      <th>deck_set</th>\n",
       "      <th>deck_type</th>\n",
       "      <th>rating</th>\n",
       "      <th>title</th>\n",
       "      <th>...</th>\n",
       "      <th>card_20</th>\n",
       "      <th>card_21</th>\n",
       "      <th>card_22</th>\n",
       "      <th>card_23</th>\n",
       "      <th>card_24</th>\n",
       "      <th>card_25</th>\n",
       "      <th>card_26</th>\n",
       "      <th>card_27</th>\n",
       "      <th>card_28</th>\n",
       "      <th>card_29</th>\n",
       "    </tr>\n",
       "  </thead>\n",
       "  <tbody>\n",
       "    <tr>\n",
       "      <th>0</th>\n",
       "      <td>9740</td>\n",
       "      <td>2016-02-19</td>\n",
       "      <td>Unknown</td>\n",
       "      <td>Priest</td>\n",
       "      <td>W</td>\n",
       "      <td>433004</td>\n",
       "      <td>Explorers</td>\n",
       "      <td>Tavern Brawl</td>\n",
       "      <td>1</td>\n",
       "      <td>Reno Priest</td>\n",
       "      <td>...</td>\n",
       "      <td>374</td>\n",
       "      <td>2280</td>\n",
       "      <td>2511</td>\n",
       "      <td>2555</td>\n",
       "      <td>2566</td>\n",
       "      <td>2582</td>\n",
       "      <td>2683</td>\n",
       "      <td>2736</td>\n",
       "      <td>2568</td>\n",
       "      <td>2883</td>\n",
       "    </tr>\n",
       "    <tr>\n",
       "      <th>1</th>\n",
       "      <td>9840</td>\n",
       "      <td>2016-02-19</td>\n",
       "      <td>Unknown</td>\n",
       "      <td>Warrior</td>\n",
       "      <td>W</td>\n",
       "      <td>433003</td>\n",
       "      <td>Explorers</td>\n",
       "      <td>Ranked Deck</td>\n",
       "      <td>1</td>\n",
       "      <td>RoosterWarrior</td>\n",
       "      <td>...</td>\n",
       "      <td>1781</td>\n",
       "      <td>1781</td>\n",
       "      <td>2021</td>\n",
       "      <td>2021</td>\n",
       "      <td>2064</td>\n",
       "      <td>2064</td>\n",
       "      <td>2078</td>\n",
       "      <td>2510</td>\n",
       "      <td>2729</td>\n",
       "      <td>2736</td>\n",
       "    </tr>\n",
       "    <tr>\n",
       "      <th>2</th>\n",
       "      <td>2600</td>\n",
       "      <td>2016-02-19</td>\n",
       "      <td>Unknown</td>\n",
       "      <td>Mage</td>\n",
       "      <td>W</td>\n",
       "      <td>433002</td>\n",
       "      <td>Explorers</td>\n",
       "      <td>Theorycraft</td>\n",
       "      <td>1</td>\n",
       "      <td>Annoying</td>\n",
       "      <td>...</td>\n",
       "      <td>1793</td>\n",
       "      <td>1801</td>\n",
       "      <td>1801</td>\n",
       "      <td>2037</td>\n",
       "      <td>2037</td>\n",
       "      <td>2064</td>\n",
       "      <td>2064</td>\n",
       "      <td>2078</td>\n",
       "      <td>38710</td>\n",
       "      <td>38710</td>\n",
       "    </tr>\n",
       "    <tr>\n",
       "      <th>3</th>\n",
       "      <td>15600</td>\n",
       "      <td>2016-02-19</td>\n",
       "      <td>Unknown</td>\n",
       "      <td>Warrior</td>\n",
       "      <td>W</td>\n",
       "      <td>433001</td>\n",
       "      <td>Explorers</td>\n",
       "      <td>NaN</td>\n",
       "      <td>0</td>\n",
       "      <td>Standart pay to win warrior</td>\n",
       "      <td>...</td>\n",
       "      <td>1657</td>\n",
       "      <td>1721</td>\n",
       "      <td>2018</td>\n",
       "      <td>2296</td>\n",
       "      <td>2262</td>\n",
       "      <td>336</td>\n",
       "      <td>2729</td>\n",
       "      <td>2729</td>\n",
       "      <td>2736</td>\n",
       "      <td>2760</td>\n",
       "    </tr>\n",
       "    <tr>\n",
       "      <th>4</th>\n",
       "      <td>7700</td>\n",
       "      <td>2016-02-19</td>\n",
       "      <td>Unknown</td>\n",
       "      <td>Paladin</td>\n",
       "      <td>W</td>\n",
       "      <td>432997</td>\n",
       "      <td>Explorers</td>\n",
       "      <td>Ranked Deck</td>\n",
       "      <td>1</td>\n",
       "      <td>Palamix</td>\n",
       "      <td>...</td>\n",
       "      <td>2027</td>\n",
       "      <td>2029</td>\n",
       "      <td>2029</td>\n",
       "      <td>2064</td>\n",
       "      <td>2078</td>\n",
       "      <td>374</td>\n",
       "      <td>2717</td>\n",
       "      <td>2717</td>\n",
       "      <td>2889</td>\n",
       "      <td>2889</td>\n",
       "    </tr>\n",
       "  </tbody>\n",
       "</table>\n",
       "<p>5 rows × 41 columns</p>\n",
       "</div>"
      ],
      "text/plain": [
       "   craft_cost        date deck_archetype deck_class deck_format  deck_id  \\\n",
       "0        9740  2016-02-19        Unknown     Priest           W   433004   \n",
       "1        9840  2016-02-19        Unknown    Warrior           W   433003   \n",
       "2        2600  2016-02-19        Unknown       Mage           W   433002   \n",
       "3       15600  2016-02-19        Unknown    Warrior           W   433001   \n",
       "4        7700  2016-02-19        Unknown    Paladin           W   432997   \n",
       "\n",
       "    deck_set     deck_type  rating                        title  ... card_20  \\\n",
       "0  Explorers  Tavern Brawl       1                  Reno Priest  ...     374   \n",
       "1  Explorers   Ranked Deck       1               RoosterWarrior  ...    1781   \n",
       "2  Explorers   Theorycraft       1                     Annoying  ...    1793   \n",
       "3  Explorers           NaN       0  Standart pay to win warrior  ...    1657   \n",
       "4  Explorers   Ranked Deck       1                      Palamix  ...    2027   \n",
       "\n",
       "   card_21  card_22  card_23  card_24  card_25  card_26  card_27  card_28  \\\n",
       "0     2280     2511     2555     2566     2582     2683     2736     2568   \n",
       "1     1781     2021     2021     2064     2064     2078     2510     2729   \n",
       "2     1801     1801     2037     2037     2064     2064     2078    38710   \n",
       "3     1721     2018     2296     2262      336     2729     2729     2736   \n",
       "4     2029     2029     2064     2078      374     2717     2717     2889   \n",
       "\n",
       "   card_29  \n",
       "0     2883  \n",
       "1     2736  \n",
       "2    38710  \n",
       "3     2760  \n",
       "4     2889  \n",
       "\n",
       "[5 rows x 41 columns]"
      ]
     },
     "execution_count": 51,
     "metadata": {},
     "output_type": "execute_result"
    }
   ],
   "source": [
    "df = pd.read_csv(\"data\\data.csv\")\n",
    "df.head()"
   ]
  },
  {
   "cell_type": "markdown",
   "metadata": {},
   "source": [
    "## Cartas y mazos\n",
    "Definimos el conjunto *cards* con las *N* cartas disponibles para elegir y armar un mazo de tamaño *D*. Las cartas disponibles serán solo las que están enumeradas en la base de datos.\n",
    "\n",
    "CAMBIOS:\n",
    "- redefinir N por algo más pequeño y cartas que se pueden elegir\n",
    "- redefinir deck para repetir cartas"
   ]
  },
  {
   "cell_type": "code",
   "execution_count": 52,
   "metadata": {},
   "outputs": [],
   "source": [
    "cards_cols = df.iloc[:, 11:41] # cartas en la base de datos\n",
    "cards = sorted(pd.unique(cards_cols.values.ravel()).tolist()) # conjunto de cartas para elegir\n",
    "\n",
    "N = len(cards) # tamaño conjunto cartas para elegir\n",
    "D = 30 # tamaño mazo Hearthstone"
   ]
  },
  {
   "cell_type": "code",
   "execution_count": 53,
   "metadata": {},
   "outputs": [],
   "source": [
    "N = 40 # N más pequeño para implementar\n",
    "D = 10 # D más pequeño para implementar"
   ]
  },
  {
   "cell_type": "markdown",
   "metadata": {},
   "source": [
    "El mazo lo definimos como un vector binario *deck* con *N* entradas y exactamente *D* iguales a 1. Para la construción de un mazo ganador necesitaremos el mazo inicial *deck_p* del jugador, que tenemos el objetivo de mejorar, y el mazo del oponente *deck_o*, que buscamos derrotar en una partida. A continación se presenta un ejemplo de mazos."
   ]
  },
  {
   "cell_type": "code",
   "execution_count": 54,
   "metadata": {},
   "outputs": [
    {
     "name": "stdout",
     "output_type": "stream",
     "text": [
      "Mazo jugador: [0 1 0 0 0 0 1 0 0 0 1 0 0 0 0 0 0 0 0 1 0 1 0 1 0 1 0 0 0 0 1 0 0 0 0 0 1\n",
      " 0 0 1]\n",
      "Mazo oponente: [0 1 1 0 1 1 0 1 0 0 0 0 0 0 0 0 0 0 0 1 0 0 0 1 1 0 0 0 0 0 0 1 0 0 0 0 0\n",
      " 1 0 0]\n"
     ]
    }
   ],
   "source": [
    "deck_p = np.zeros(N, dtype=int) # definir mazo jugador\n",
    "deck_p[np.random.choice(N, D, replace=False)] = 1 # generar mazo aleatorio jugador\n",
    "print(f'Mazo jugador: {deck_p}')\n",
    "\n",
    "deck_o = np.zeros(N, dtype=int) # definir mazo oponente\n",
    "deck_o[np.random.choice(N, D, replace=False)] = 1 # generar mazo aleatorio oponente\n",
    "print(f'Mazo oponente: {deck_o}')"
   ]
  },
  {
   "cell_type": "markdown",
   "metadata": {},
   "source": [
    "## Transiciones y acciones\n",
    "El proceso para mejorar el mazo *deck_p* consta de aplicar múltiples veces la función de transición *transition* determinada por una acción. Una acción *action* es una tupla con las cartas del reemplazo que modifica exactamente una carta del mazo por una carta que actualmente no está incluida. A continuación, un ejemplo del uso de la función *transition*, en donde se elige de forma aleatoria la acción."
   ]
  },
  {
   "cell_type": "code",
   "execution_count": 55,
   "metadata": {},
   "outputs": [],
   "source": [
    "def transition(deck, action):\n",
    "    deck[action[0]] = 0 # eliminamos la carta antigua del mazo\n",
    "    deck[action[1]] = 1 # agregamos la carta nueva al mazo\n",
    "    return deck"
   ]
  },
  {
   "cell_type": "code",
   "execution_count": 56,
   "metadata": {},
   "outputs": [
    {
     "name": "stdout",
     "output_type": "stream",
     "text": [
      "Mazo antiguo: [0 1 0 0 0 0 1 0 0 0 1 0 0 0 0 0 0 0 0 1 0 1 0 1 0 1 0 0 0 0 1 0 0 0 0 0 1\n",
      " 0 0 1]\n",
      "Acción: (39,7)\n",
      "Mazo nuevo: [0 1 0 0 0 0 1 1 0 0 1 0 0 0 0 0 0 0 0 1 0 1 0 1 0 1 0 0 0 0 1 0 0 0 0 0 1\n",
      " 0 0 0]\n"
     ]
    }
   ],
   "source": [
    "print(f'Mazo antiguo: {deck_p}')\n",
    "\n",
    "old_card = np.random.choice(np.where(deck_p == 1)[0]) # elegimos aleatoriamente una carta que está en el mazo\n",
    "new_card = np.random.choice(np.where(deck_p == 0)[0]) # elegimos aleatoriamente una carta que no está en el mazo\n",
    "action = (old_card, new_card) # definimos la acción\n",
    "print(f'Acción: ({action[0]},{action[1]})')\n",
    "\n",
    "new_deck_p = transition(deck_p, action)\n",
    "print(f'Mazo nuevo: {new_deck_p}')"
   ]
  },
  {
   "cell_type": "markdown",
   "metadata": {},
   "source": [
    "## Win Rate\n",
    "Para elegir las acciones que nos lleven a encontrar un mazo ganador usaremos el *win_rate* de este mazo. Entonces, para elegir la próxima acción buscaremos cual es la que maximiza el *win_rate* del mazo."
   ]
  },
  {
   "cell_type": "code",
   "execution_count": null,
   "metadata": {},
   "outputs": [],
   "source": [
    "import keras\n",
    "import pickle\n",
    "model = keras.models.load_model(\"win_rate_NN.keras\")\n",
    "model.summary()\n",
    "with open(\"encoder\", \"rb\") as f:\n",
    "    encoder = pickle.load(f)\n",
    "with open(\"win_rate_RF.pkl\", \"rb\") as f:\n",
    "    rf = pickle.load(f)"
   ]
  },
  {
   "cell_type": "code",
   "execution_count": null,
   "metadata": {},
   "outputs": [],
   "source": [
    "def win_rate_NN(deck,encoder = encoder, model =model):\n",
    "  mazo_gen_num = deck.drop(columns=['date', 'deck_archetype', 'deck_class', 'deck_format',\n",
    "       'deck_id', 'deck_set', 'deck_type', 'rating', 'title', 'user']).iloc[15].to_frame().transpose().reset_index()\n",
    " # return mazo_gen_num\n",
    "  hero = deck[\"deck_class\"].iloc[15]\n",
    "  mazo_gen_cat = pd.DataFrame([{\"hero\":hero}])\n",
    "  encoded_categorical = encoder.transform(mazo_gen_cat)\n",
    "  # # # Step 3: Convert the encoded data back to a DataFrame\n",
    "  encoded_df = pd.DataFrame(encoded_categorical, columns=encoder.get_feature_names_out())\n",
    "  # # Step 4: Concatenate the numerical column with the one-hot encoded categorical columns\n",
    "  final_df = pd.concat([mazo_gen_num, encoded_df], axis=1).drop(columns=[\"index\"]).rename(columns={\"craft_cost\":\"dust\"})\n",
    "  results = model.predict(final_df)\n",
    "  return results"
   ]
  },
  {
   "cell_type": "markdown",
   "metadata": {},
   "source": [
    "## Implementación\n",
    "Se podrán realizar máximo *D* acciones, ya que a lo más necesitamos modificar completamente el mazo inicial para encontrar un óptimo"
   ]
  },
  {
   "cell_type": "markdown",
   "metadata": {},
   "source": []
  }
 ],
 "metadata": {
  "kernelspec": {
   "display_name": "Python 3",
   "language": "python",
   "name": "python3"
  },
  "language_info": {
   "codemirror_mode": {
    "name": "ipython",
    "version": 3
   },
   "file_extension": ".py",
   "mimetype": "text/x-python",
   "name": "python",
   "nbconvert_exporter": "python",
   "pygments_lexer": "ipython3",
   "version": "3.11.9"
  }
 },
 "nbformat": 4,
 "nbformat_minor": 2
}
