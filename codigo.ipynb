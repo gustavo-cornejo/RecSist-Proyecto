{
  "cells": [
    {
      "cell_type": "markdown",
      "metadata": {
        "id": "b37666j8KC23"
      },
      "source": [
        "# Recommendation Systems for Hearthstone Decks"
      ]
    },
    {
      "cell_type": "code",
      "execution_count": null,
      "metadata": {
        "colab": {
          "base_uri": "https://localhost:8080/"
        },
        "id": "cV_0JlnMKC24",
        "outputId": "9935f2b2-05c4-4458-d8a0-95191fa11ab0"
      },
      "outputs": [],
      "source": [
        "#!pip install pyreclab"
      ]
    },
    {
      "cell_type": "code",
      "execution_count": null,
      "metadata": {
        "id": "XlKetWoMKC25"
      },
      "outputs": [],
      "source": [
        "import pandas as pd\n",
        "import pyreclab\n",
        "import seaborn as sns\n",
        "import numpy as np\n",
        "import scipy.sparse as sparse\n",
        "import matplotlib.pyplot as plt"
      ]
    },
    {
      "cell_type": "code",
      "execution_count": null,
      "metadata": {
        "colab": {
          "base_uri": "https://localhost:8080/",
          "height": 342
        },
        "id": "jBrNQ85wKC25",
        "outputId": "a0d1aa58-10db-4bbc-e445-65bc8a21caea"
      },
      "outputs": [],
      "source": [
        "url = 'https://raw.githubusercontent.com/gustavo-cornejo/RecSist-Proyecto/refs/heads/main/archive/data.csv?token=GHSAT0AAAAAACYQMCVWC4JBAZ5UEEVMZGBQZYIHVEA'\n",
        "data = pd.read_csv(url)\n",
        "data.head()"
      ]
    },
    {
      "cell_type": "markdown",
      "metadata": {
        "id": "gtuu3-1-KC25"
      },
      "source": [
        "## Random"
      ]
    },
    {
      "cell_type": "code",
      "execution_count": null,
      "metadata": {
        "id": "fg6BvPmKMbLI"
      },
      "outputs": [],
      "source": []
    },
    {
      "cell_type": "markdown",
      "metadata": {
        "id": "-GWStgUcKC25"
      },
      "source": [
        "## Most Popular"
      ]
    },
    {
      "cell_type": "markdown",
      "metadata": {
        "id": "pB0fNa0LKC26"
      },
      "source": [
        "## Otro"
      ]
    },
    {
      "cell_type": "markdown",
      "metadata": {
        "id": "3C5LERwFKC26"
      },
      "source": []
    }
  ],
  "metadata": {
    "colab": {
      "provenance": []
    },
    "kernelspec": {
      "display_name": "Python 3",
      "language": "python",
      "name": "python3"
    },
    "language_info": {
      "codemirror_mode": {
        "name": "ipython",
        "version": 3
      },
      "file_extension": ".py",
      "mimetype": "text/x-python",
      "name": "python",
      "nbconvert_exporter": "python",
      "pygments_lexer": "ipython3",
      "version": "3.9.4"
    }
  },
  "nbformat": 4,
  "nbformat_minor": 0
}
